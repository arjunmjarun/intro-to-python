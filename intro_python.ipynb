{
 "cells": [
  {
   "cell_type": "code",
   "execution_count": 1,
   "metadata": {},
   "outputs": [
    {
     "name": "stdout",
     "output_type": "stream",
     "text": [
      "Hello world\n"
     ]
    }
   ],
   "source": [
    "print('Hello world')"
   ]
  },
  {
   "cell_type": "code",
   "execution_count": 5,
   "metadata": {},
   "outputs": [
    {
     "name": "stdout",
     "output_type": "stream",
     "text": [
      "2\n",
      "0\n",
      "4\n",
      "1.0\n",
      "4\n",
      "1\n"
     ]
    }
   ],
   "source": [
    "print(1 + 1) #addition\n",
    "print(1 - 1) #subtraction\n",
    "print(2 * 2) #multiplication\n",
    "print(2 / 2) #division\n",
    "print(2 ** 2) #exponent, 2 squared\n",
    "print(3 % 2) #get the remainder from a division problem"
   ]
  },
  {
   "cell_type": "code",
   "execution_count": 7,
   "metadata": {},
   "outputs": [
    {
     "name": "stdout",
     "output_type": "stream",
     "text": [
      "True\n",
      "False\n",
      "False\n",
      "True\n",
      "True\n",
      "True\n"
     ]
    }
   ],
   "source": [
    "print(1 == 1) #Is 1 equal to 1?\n",
    "print(2 == 1) #Is 2 equal to 1?\n",
    "print(1 > 2) #Is 1 greater than 2?\n",
    "print(1 < 2) #Is 1 less than 2?\n",
    "print(2 >= 2) #Is 2 greater than or equal to 2?\n",
    "print(2 <= 2) #Is 2 less than or equal to 2?"
   ]
  },
  {
   "cell_type": "code",
   "execution_count": null,
   "metadata": {},
   "outputs": [],
   "source": []
  }
 ],
 "metadata": {
  "kernelspec": {
   "display_name": "Python 3",
   "language": "python",
   "name": "python3"
  },
  "language_info": {
   "codemirror_mode": {
    "name": "ipython",
    "version": 3
   },
   "file_extension": ".py",
   "mimetype": "text/x-python",
   "name": "python",
   "nbconvert_exporter": "python",
   "pygments_lexer": "ipython3",
   "version": "3.6.5"
  }
 },
 "nbformat": 4,
 "nbformat_minor": 2
}
